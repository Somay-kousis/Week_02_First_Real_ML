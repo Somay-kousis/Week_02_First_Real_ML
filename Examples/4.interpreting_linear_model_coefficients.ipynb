{
 "cells": [
  {
   "cell_type": "markdown",
   "id": "ab930672",
   "metadata": {},
   "source": [
    "## Common pitfalls in the interpretation of coefficients of linear models"
   ]
  },
  {
   "cell_type": "markdown",
   "id": "9561a201",
   "metadata": {},
   "source": [
    "### Imports"
   ]
  },
  {
   "cell_type": "code",
   "execution_count": null,
   "id": "f0740bfd",
   "metadata": {},
   "outputs": [],
   "source": [
    "import matplotlib.pyplot as plt\n",
    "import numpy as np\n",
    "import pandas as pd\n",
    "import scipy as sp\n",
    "import seaborn as sns"
   ]
  },
  {
   "cell_type": "markdown",
   "id": "3453e744",
   "metadata": {},
   "source": [
    "### The dataset: wages"
   ]
  },
  {
   "cell_type": "code",
   "execution_count": null,
   "id": "93eb054c",
   "metadata": {},
   "outputs": [],
   "source": [
    "from sklearn.datasets import fetch_openml\n"
   ]
  },
  {
   "cell_type": "code",
   "execution_count": null,
   "id": "c0def170",
   "metadata": {},
   "outputs": [],
   "source": []
  },
  {
   "cell_type": "markdown",
   "id": "777a5585",
   "metadata": {},
   "source": [
    "### The machine-learning pipeline"
   ]
  },
  {
   "cell_type": "markdown",
   "id": "529b3f37",
   "metadata": {},
   "source": [
    "### Processing the dataset"
   ]
  },
  {
   "cell_type": "markdown",
   "id": "bc0b9a84",
   "metadata": {},
   "source": [
    "### Interpreting coefficients: scale matters"
   ]
  },
  {
   "cell_type": "markdown",
   "id": "28a6d451",
   "metadata": {},
   "source": [
    "### Interpreting coefficients: being cautious about causality"
   ]
  },
  {
   "cell_type": "markdown",
   "id": "769813b6",
   "metadata": {},
   "source": [
    "### Checking the variability of the coefficients"
   ]
  },
  {
   "cell_type": "markdown",
   "id": "906054d0",
   "metadata": {},
   "source": [
    "### The problem of correlated variables"
   ]
  },
  {
   "cell_type": "markdown",
   "id": "bca03a7d",
   "metadata": {},
   "source": [
    "### Preprocessing numerical variables"
   ]
  },
  {
   "cell_type": "markdown",
   "id": "0fdfb585",
   "metadata": {},
   "source": [
    "### Linear models with regularization"
   ]
  },
  {
   "cell_type": "markdown",
   "id": "0565e1a8",
   "metadata": {},
   "source": [
    "### Linear models with sparse coefficients"
   ]
  },
  {
   "cell_type": "markdown",
   "id": "d8c8b836",
   "metadata": {},
   "source": [
    "### Wrong causal interpretation"
   ]
  },
  {
   "cell_type": "markdown",
   "id": "837391b1",
   "metadata": {},
   "source": []
  }
 ],
 "metadata": {
  "kernelspec": {
   "display_name": "week_2",
   "language": "python",
   "name": "python3"
  },
  "language_info": {
   "codemirror_mode": {
    "name": "ipython",
    "version": 3
   },
   "file_extension": ".py",
   "mimetype": "text/x-python",
   "name": "python",
   "nbconvert_exporter": "python",
   "pygments_lexer": "ipython3",
   "version": "3.9.6"
  }
 },
 "nbformat": 4,
 "nbformat_minor": 5
}
